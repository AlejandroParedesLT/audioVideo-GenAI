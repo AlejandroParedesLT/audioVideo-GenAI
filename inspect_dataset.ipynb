{
 "cells": [
  {
   "cell_type": "code",
   "execution_count": 6,
   "id": "e9645e39",
   "metadata": {},
   "outputs": [],
   "source": [
    "import os\n",
    "\n",
    "os.environ[\"HF_HOME\"] = \"/dev/shm/hf-home\"\n",
    "os.environ[\"TRANSFORMERS_CACHE\"] = \"/dev/shm/hf-cache\"\n",
    "os.environ[\"HF_DATASETS_CACHE\"] = \"/dev/shm/hf-datasets\"\n",
    "os.environ[\"TORCH_HOME\"] = \"/dev/shm/torch-home\"\n",
    "os.environ[\"XDG_CACHE_HOME\"] = \"/dev/shm/.cache\"\n",
    "os.environ[\"WANDB_CACHE_DIR\"] = \"/dev/shm/wandb-cache\""
   ]
  },
  {
   "cell_type": "code",
   "execution_count": 7,
   "id": "545d555e",
   "metadata": {},
   "outputs": [
    {
     "data": {
      "application/vnd.jupyter.widget-view+json": {
       "model_id": "2bbd46a0c6ba4e16a7c36c2a24601347",
       "version_major": 2,
       "version_minor": 0
      },
      "text/plain": [
       "README.md:   0%|          | 0.00/173 [00:00<?, ?B/s]"
      ]
     },
     "metadata": {},
     "output_type": "display_data"
    },
    {
     "data": {
      "application/vnd.jupyter.widget-view+json": {
       "model_id": "079cc6154be5448a8c47e544ee6b933b",
       "version_major": 2,
       "version_minor": 0
      },
      "text/plain": [
       "Resolving data files:   0%|          | 0/996 [00:00<?, ?it/s]"
      ]
     },
     "metadata": {},
     "output_type": "display_data"
    },
    {
     "data": {
      "text/plain": [
       "IterableDataset({\n",
       "    features: ['videoid', 'contentUrl', 'duration', 'page_dir', 'name'],\n",
       "    num_shards: 996\n",
       "})"
      ]
     },
     "execution_count": 7,
     "metadata": {},
     "output_type": "execute_result"
    }
   ],
   "source": [
    "from datasets import load_dataset\n",
    "# Import environment variable\n",
    "import os\n",
    "#import dotenv\n",
    "import dotenv\n",
    "dotenv.load_dotenv()\n",
    "\n",
    "\n",
    "ds = load_dataset(\"TempoFunk/webvid-10M\", token=os.getenv(\"HUGGINGFACE_TOKEN\"), split=\"train\", streaming=True)\n",
    "\n",
    "ds"
   ]
  },
  {
   "cell_type": "code",
   "execution_count": 15,
   "id": "26b5bfb4",
   "metadata": {},
   "outputs": [
    {
     "data": {
      "text/plain": [
       "{'videoid': 21179416,\n",
       " 'contentUrl': 'https://ak.picdn.net/shutterstock/videos/21179416/preview/stock-footage-aerial-shot-winter-forest.mp4',\n",
       " 'duration': 'PT00H00M11S',\n",
       " 'page_dir': '006001_006050',\n",
       " 'name': 'Aerial shot winter forest'}"
      ]
     },
     "execution_count": 15,
     "metadata": {},
     "output_type": "execute_result"
    }
   ],
   "source": [
    "# Access one example\n",
    "example = next(iter(ds))\n",
    "example"
   ]
  }
 ],
 "metadata": {
  "kernelspec": {
   "display_name": "Python 3 (ipykernel)",
   "language": "python",
   "name": "python3"
  }
 },
 "nbformat": 4,
 "nbformat_minor": 5
}
